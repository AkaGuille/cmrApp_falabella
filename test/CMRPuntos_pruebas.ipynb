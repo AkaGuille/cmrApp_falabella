{
 "cells": [
  {
   "cell_type": "code",
   "execution_count": 3,
   "id": "ad0396e1",
   "metadata": {},
   "outputs": [
    {
     "data": {
      "text/html": [
       "<div>\n",
       "<style scoped>\n",
       "    .dataframe tbody tr th:only-of-type {\n",
       "        vertical-align: middle;\n",
       "    }\n",
       "\n",
       "    .dataframe tbody tr th {\n",
       "        vertical-align: top;\n",
       "    }\n",
       "\n",
       "    .dataframe thead th {\n",
       "        text-align: right;\n",
       "    }\n",
       "</style>\n",
       "<table border=\"1\" class=\"dataframe\">\n",
       "  <thead>\n",
       "    <tr style=\"text-align: right;\">\n",
       "      <th></th>\n",
       "      <th>Usuario</th>\n",
       "      <th>tiempo(seg)</th>\n",
       "      <th>clicks</th>\n",
       "      <th>FA</th>\n",
       "      <th>PU</th>\n",
       "      <th>EA</th>\n",
       "      <th>RW</th>\n",
       "    </tr>\n",
       "  </thead>\n",
       "  <tbody>\n",
       "    <tr>\n",
       "      <th>0</th>\n",
       "      <td>1</td>\n",
       "      <td>37</td>\n",
       "      <td>12</td>\n",
       "      <td>5</td>\n",
       "      <td>5</td>\n",
       "      <td>5</td>\n",
       "      <td>4</td>\n",
       "    </tr>\n",
       "    <tr>\n",
       "      <th>1</th>\n",
       "      <td>2</td>\n",
       "      <td>45</td>\n",
       "      <td>10</td>\n",
       "      <td>5</td>\n",
       "      <td>4</td>\n",
       "      <td>5</td>\n",
       "      <td>4</td>\n",
       "    </tr>\n",
       "    <tr>\n",
       "      <th>2</th>\n",
       "      <td>3</td>\n",
       "      <td>52</td>\n",
       "      <td>10</td>\n",
       "      <td>5</td>\n",
       "      <td>4</td>\n",
       "      <td>5</td>\n",
       "      <td>5</td>\n",
       "    </tr>\n",
       "    <tr>\n",
       "      <th>3</th>\n",
       "      <td>4</td>\n",
       "      <td>37</td>\n",
       "      <td>15</td>\n",
       "      <td>5</td>\n",
       "      <td>4</td>\n",
       "      <td>5</td>\n",
       "      <td>4</td>\n",
       "    </tr>\n",
       "    <tr>\n",
       "      <th>4</th>\n",
       "      <td>5</td>\n",
       "      <td>74</td>\n",
       "      <td>14</td>\n",
       "      <td>4</td>\n",
       "      <td>3</td>\n",
       "      <td>4</td>\n",
       "      <td>5</td>\n",
       "    </tr>\n",
       "    <tr>\n",
       "      <th>5</th>\n",
       "      <td>6</td>\n",
       "      <td>59</td>\n",
       "      <td>13</td>\n",
       "      <td>4</td>\n",
       "      <td>4</td>\n",
       "      <td>4</td>\n",
       "      <td>4</td>\n",
       "    </tr>\n",
       "    <tr>\n",
       "      <th>6</th>\n",
       "      <td>7</td>\n",
       "      <td>62</td>\n",
       "      <td>17</td>\n",
       "      <td>4</td>\n",
       "      <td>4</td>\n",
       "      <td>4</td>\n",
       "      <td>5</td>\n",
       "    </tr>\n",
       "    <tr>\n",
       "      <th>7</th>\n",
       "      <td>8</td>\n",
       "      <td>40</td>\n",
       "      <td>17</td>\n",
       "      <td>5</td>\n",
       "      <td>4</td>\n",
       "      <td>4</td>\n",
       "      <td>3</td>\n",
       "    </tr>\n",
       "    <tr>\n",
       "      <th>8</th>\n",
       "      <td>9</td>\n",
       "      <td>75</td>\n",
       "      <td>20</td>\n",
       "      <td>5</td>\n",
       "      <td>3</td>\n",
       "      <td>4</td>\n",
       "      <td>5</td>\n",
       "    </tr>\n",
       "    <tr>\n",
       "      <th>9</th>\n",
       "      <td>10</td>\n",
       "      <td>66</td>\n",
       "      <td>15</td>\n",
       "      <td>5</td>\n",
       "      <td>4</td>\n",
       "      <td>4</td>\n",
       "      <td>5</td>\n",
       "    </tr>\n",
       "  </tbody>\n",
       "</table>\n",
       "</div>"
      ],
      "text/plain": [
       "   Usuario  tiempo(seg)  clicks  FA  PU  EA  RW\n",
       "0        1           37      12   5   5   5   4\n",
       "1        2           45      10   5   4   5   4\n",
       "2        3           52      10   5   4   5   5\n",
       "3        4           37      15   5   4   5   4\n",
       "4        5           74      14   4   3   4   5\n",
       "5        6           59      13   4   4   4   4\n",
       "6        7           62      17   4   4   4   5\n",
       "7        8           40      17   5   4   4   3\n",
       "8        9           75      20   5   3   4   5\n",
       "9       10           66      15   5   4   4   5"
      ]
     },
     "execution_count": 3,
     "metadata": {},
     "output_type": "execute_result"
    }
   ],
   "source": [
    "import pandas as pd\n",
    "import numpy as np\n",
    "import matplotlib.pyplot as plt\n",
    "import seaborn as sns\n",
    "# Cargar los datos\n",
    "data = pd.read_csv(\"resultadosPruebas.csv\")\n",
    "data.head(10)"
   ]
  },
  {
   "cell_type": "code",
   "execution_count": 9,
   "id": "18e278cd",
   "metadata": {},
   "outputs": [
    {
     "name": "stdout",
     "output_type": "stream",
     "text": [
      "    Usuario  Tiempo(seg)  Clicks  FA  PU  EA  RW\n",
      "0         1           37      12   5   5   5   4\n",
      "1         2           45      10   5   4   5   4\n",
      "2         3           52      10   5   4   5   5\n",
      "3         4           37      15   5   4   5   4\n",
      "4         5           74      14   4   3   4   5\n",
      "5         6           59      13   4   4   4   4\n",
      "6         7           62      17   4   4   4   5\n",
      "7         8           40      17   5   4   4   3\n",
      "8         9           75      20   5   3   4   5\n",
      "9        10           66      15   5   4   4   5\n",
      "10       11           58      17   5   4   4   5\n",
      "11       12           60      13   5   3   4   7\n"
     ]
    }
   ],
   "source": [
    "data = {\n",
    "    'Usuario': [1, 2, 3, 4, 5, 6, 7, 8, 9, 10, 11, 12],\n",
    "    'Tiempo(seg)': [37, 45, 52, 37, 74, 59, 62, 40, 75, 66, 58, 60],\n",
    "    'Clicks': [12, 10, 10, 15, 14, 13, 17, 17, 20, 15, 17, 13],\n",
    "    'FA': [5, 5, 5, 5, 4, 4, 4, 5, 5, 5, 5, 5],\n",
    "    'PU': [5, 4, 4, 4, 3, 4, 4, 4, 3, 4, 4, 3],\n",
    "    'EA': [5, 5, 5, 5, 4, 4, 4, 4, 4, 4, 4, 4],\n",
    "    'RW': [4, 4, 5, 4, 5, 4, 5, 3, 5, 5, 5, 7]\n",
    "}\n",
    "\n",
    "df = pd.DataFrame(data)\n",
    "print(df)"
   ]
  },
  {
   "cell_type": "code",
   "execution_count": null,
   "id": "dd06b475",
   "metadata": {},
   "outputs": [],
   "source": [
    "# Estadísticas descriptivas"
   ]
  },
  {
   "cell_type": "code",
   "execution_count": 10,
   "id": "4158f079",
   "metadata": {},
   "outputs": [
    {
     "name": "stdout",
     "output_type": "stream",
     "text": [
      "         Usuario  Tiempo(seg)     Clicks         FA         PU         EA  \\\n",
      "count  12.000000    12.000000  12.000000  12.000000  12.000000  12.000000   \n",
      "mean    6.500000    55.416667  14.416667   4.750000   3.833333   4.333333   \n",
      "std     3.605551    13.351597   3.028901   0.452267   0.577350   0.492366   \n",
      "min     1.000000    37.000000  10.000000   4.000000   3.000000   4.000000   \n",
      "25%     3.750000    43.750000  12.750000   4.750000   3.750000   4.000000   \n",
      "50%     6.500000    58.500000  14.500000   5.000000   4.000000   4.000000   \n",
      "75%     9.250000    63.000000  17.000000   5.000000   4.000000   5.000000   \n",
      "max    12.000000    75.000000  20.000000   5.000000   5.000000   5.000000   \n",
      "\n",
      "              RW  \n",
      "count  12.000000  \n",
      "mean    4.666667  \n",
      "std     0.984732  \n",
      "min     3.000000  \n",
      "25%     4.000000  \n",
      "50%     5.000000  \n",
      "75%     5.000000  \n",
      "max     7.000000  \n"
     ]
    }
   ],
   "source": [
    "summary_stats = df.describe()\n",
    "print(summary_stats)"
   ]
  },
  {
   "cell_type": "code",
   "execution_count": 15,
   "id": "e5528db6",
   "metadata": {},
   "outputs": [],
   "source": [
    "# Correlación entre variables"
   ]
  },
  {
   "cell_type": "code",
   "execution_count": 11,
   "id": "37cad128",
   "metadata": {},
   "outputs": [
    {
     "name": "stdout",
     "output_type": "stream",
     "text": [
      "              Usuario  Tiempo(seg)    Clicks            FA        PU  \\\n",
      "Usuario      1.000000     0.527818  0.611840  8.362420e-02 -0.524056   \n",
      "Tiempo(seg)  0.527818     1.000000  0.393206 -4.328297e-01 -0.721356   \n",
      "Clicks       0.611840     0.393206  1.000000 -4.977240e-02 -0.320578   \n",
      "FA           0.083624    -0.432830 -0.049772  1.000000e+00  0.174078   \n",
      "PU          -0.524056    -0.721356 -0.320578  1.740777e-01  1.000000   \n",
      "EA          -0.819346    -0.700662 -0.650224  4.082483e-01  0.533002   \n",
      "RW           0.537696     0.578507 -0.010160  1.359740e-16 -0.586302   \n",
      "\n",
      "                   EA            RW  \n",
      "Usuario     -0.819346  5.376961e-01  \n",
      "Tiempo(seg) -0.700662  5.785069e-01  \n",
      "Clicks      -0.650224 -1.015975e-02  \n",
      "FA           0.408248  1.359740e-16  \n",
      "PU           0.533002 -5.863020e-01  \n",
      "EA           1.000000 -3.125000e-01  \n",
      "RW          -0.312500  1.000000e+00  \n"
     ]
    }
   ],
   "source": [
    "correlation_matrix = df.corr()\n",
    "print(correlation_matrix)"
   ]
  },
  {
   "cell_type": "code",
   "execution_count": 16,
   "id": "26df838a",
   "metadata": {},
   "outputs": [],
   "source": [
    "# Análisis del tiempo invertido vs la cantidad de clicks"
   ]
  },
  {
   "cell_type": "code",
   "execution_count": 12,
   "id": "a6dd1ce3",
   "metadata": {},
   "outputs": [
    {
     "data": {
      "image/png": "[encoded data removed]",
      "text/plain": [
       "<Figure size 640x480 with 1 Axes>"
      ]
     },
     "metadata": {},
     "output_type": "display_data"
    },
    {
     "name": "stdout",
     "output_type": "stream",
     "text": [
      "Correlación entre Tiempo y Clicks: 0.39320603522407394\n"
     ]
    }
   ],
   "source": [
    "import matplotlib.pyplot as plt\n",
    "\n",
    "plt.scatter(df['Tiempo(seg)'], df['Clicks'])\n",
    "plt.xlabel('Tiempo(seg)')\n",
    "plt.ylabel('Clicks')\n",
    "plt.title('Relación entre Tiempo y Clicks')\n",
    "plt.show()\n",
    "\n",
    "correlation_time_clicks = df['Tiempo(seg)'].corr(df['Clicks'])\n",
    "print(f\"Correlación entre Tiempo y Clicks: {correlation_time_clicks}\")"
   ]
  },
  {
   "cell_type": "code",
   "execution_count": 18,
   "id": "02abde09",
   "metadata": {},
   "outputs": [],
   "source": [
    "# Análisis del UES"
   ]
  },
  {
   "cell_type": "code",
   "execution_count": 13,
   "id": "46e38418",
   "metadata": {},
   "outputs": [
    {
     "name": "stdout",
     "output_type": "stream",
     "text": [
      "    Usuario   UES\n",
      "0         1  4.75\n",
      "1         2  4.50\n",
      "2         3  4.75\n",
      "3         4  4.50\n",
      "4         5  4.00\n",
      "5         6  4.00\n",
      "6         7  4.25\n",
      "7         8  4.00\n",
      "8         9  4.25\n",
      "9        10  4.50\n",
      "10       11  4.50\n",
      "11       12  4.75\n"
     ]
    }
   ],
   "source": [
    "df['UES'] = df[['FA', 'PU', 'EA', 'RW']].mean(axis=1)\n",
    "print(df[['Usuario', 'UES']])"
   ]
  },
  {
   "cell_type": "code",
   "execution_count": null,
   "id": "fd3ec1f5",
   "metadata": {},
   "outputs": [],
   "source": [
    "Visualización de distribuición UES"
   ]
  },
  {
   "cell_type": "code",
   "execution_count": 14,
   "id": "563bcae0",
   "metadata": {},
   "outputs": [
    {
     "data": {
      "image/png": "[encoded data removed]",
      "text/plain": [
       "<Figure size 640x480 with 1 Axes>"
      ]
     },
     "metadata": {},
     "output_type": "display_data"
    }
   ],
   "source": [
    "plt.hist(df['UES'], bins=5, edgecolor='k', alpha=0.65)\n",
    "plt.xlabel('UES')\n",
    "plt.ylabel('Frecuencia')\n",
    "plt.title('Distribución del User Engagement Scale (UES)')\n",
    "plt.show()"
   ]
  },
  {
   "cell_type": "code",
   "execution_count": null,
   "id": "8d27102f",
   "metadata": {},
   "outputs": [],
   "source": []
  },
  {
   "cell_type": "code",
   "execution_count": null,
   "id": "b166e68b",
   "metadata": {},
   "outputs": [],
   "source": []
  },
  {
   "cell_type": "code",
   "execution_count": null,
   "id": "97f7abe9",
   "metadata": {},
   "outputs": [],
   "source": []
  },
  {
   "cell_type": "code",
   "execution_count": null,
   "id": "655f085b",
   "metadata": {},
   "outputs": [],
   "source": []
  }
 ],
 "metadata": {
  "kernelspec": {
   "display_name": "Python 3 (ipykernel)",
   "language": "python",
   "name": "python3"
  },
  "language_info": {
   "codemirror_mode": {
    "name": "ipython",
    "version": 3
   },
   "file_extension": ".py",
   "mimetype": "text/x-python",
   "name": "python",
   "nbconvert_exporter": "python",
   "pygments_lexer": "ipython3",
   "version": "3.11.3"
  }
 },
 "nbformat": 4,
 "nbformat_minor": 5
}
